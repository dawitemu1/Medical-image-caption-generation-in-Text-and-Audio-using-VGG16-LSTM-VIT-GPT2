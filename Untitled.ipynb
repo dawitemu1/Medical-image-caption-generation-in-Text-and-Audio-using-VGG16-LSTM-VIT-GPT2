{
 "cells": [
  {
   "cell_type": "code",
   "execution_count": 3,
   "id": "a7dfec49-0576-4dd4-8314-626725fd1e83",
   "metadata": {},
   "outputs": [
    {
     "name": "stdout",
     "output_type": "stream",
     "text": [
      "<class 'keras.src.legacy.preprocessing.text.Tokenizer'>\n"
     ]
    }
   ],
   "source": [
    "import pickle\n",
    "\n",
    "with open(\"caption.pkl\", \"rb\") as f:\n",
    "    tokenizer = pickle.load(f)\n",
    "print(type(tokenizer))  # Should output: <class 'keras.preprocessing.text.Tokenizer'>\n"
   ]
  },
  {
   "cell_type": "code",
   "execution_count": null,
   "id": "e271c605-282e-4d6a-b731-83956a71d42e",
   "metadata": {},
   "outputs": [],
   "source": []
  },
  {
   "cell_type": "code",
   "execution_count": null,
   "id": "2f7f2e9a-cc44-4269-9ae1-a5630b11e66b",
   "metadata": {},
   "outputs": [],
   "source": []
  }
 ],
 "metadata": {
  "kernelspec": {
   "display_name": "Python 3 (ipykernel)",
   "language": "python",
   "name": "python3"
  },
  "language_info": {
   "codemirror_mode": {
    "name": "ipython",
    "version": 3
   },
   "file_extension": ".py",
   "mimetype": "text/x-python",
   "name": "python",
   "nbconvert_exporter": "python",
   "pygments_lexer": "ipython3",
   "version": "3.12.7"
  }
 },
 "nbformat": 4,
 "nbformat_minor": 5
}
